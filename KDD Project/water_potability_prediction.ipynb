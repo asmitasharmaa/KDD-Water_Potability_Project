{
 "cells": [
  {
   "cell_type": "markdown",
   "metadata": {},
   "source": [
    "# Water Potability Prediction"
   ]
  },
  {
   "cell_type": "code",
   "execution_count": 1,
   "metadata": {},
   "outputs": [],
   "source": [
    "import collections\n",
    "import numpy as np\n",
    "import pandas as pd\n",
    "import matplotlib.pyplot as plt\n",
    "import warnings\n",
    "warnings.filterwarnings('ignore')\n",
    "import seaborn as sns\n",
    "import re\n",
    "from scipy.stats import mode\n",
    "from sklearn.model_selection import train_test_split\n",
    "from sklearn.preprocessing import StandardScaler\n",
    "from sklearn.linear_model import LogisticRegression\n",
    "from sklearn.naive_bayes import GaussianNB\n",
    "from sklearn.neighbors import KNeighborsClassifier\n",
    "from sklearn.metrics import accuracy_score\n"
   ]
  },
  {
   "cell_type": "code",
   "execution_count": 113,
   "metadata": {},
   "outputs": [],
   "source": [
    "df = pd.read_csv(\"drinking_water_potability.csv\")"
   ]
  },
  {
   "cell_type": "code",
   "execution_count": 116,
   "metadata": {},
   "outputs": [
    {
     "data": {
      "text/html": [
       "<div>\n",
       "<style scoped>\n",
       "    .dataframe tbody tr th:only-of-type {\n",
       "        vertical-align: middle;\n",
       "    }\n",
       "\n",
       "    .dataframe tbody tr th {\n",
       "        vertical-align: top;\n",
       "    }\n",
       "\n",
       "    .dataframe thead th {\n",
       "        text-align: right;\n",
       "    }\n",
       "</style>\n",
       "<table border=\"1\" class=\"dataframe\">\n",
       "  <thead>\n",
       "    <tr style=\"text-align: right;\">\n",
       "      <th></th>\n",
       "      <th>ph</th>\n",
       "      <th>Hardness</th>\n",
       "      <th>Solids</th>\n",
       "      <th>Chloramines</th>\n",
       "      <th>Sulfate</th>\n",
       "      <th>Conductivity</th>\n",
       "      <th>Organic_carbon</th>\n",
       "      <th>Trihalomethanes</th>\n",
       "      <th>Turbidity</th>\n",
       "      <th>Potability</th>\n",
       "    </tr>\n",
       "  </thead>\n",
       "  <tbody>\n",
       "    <tr>\n",
       "      <th>0</th>\n",
       "      <td>7.560392</td>\n",
       "      <td>223.232250</td>\n",
       "      <td>14739.068540</td>\n",
       "      <td>6.731611</td>\n",
       "      <td>372.028909</td>\n",
       "      <td>481.341774</td>\n",
       "      <td>8.900409</td>\n",
       "      <td>62.134281</td>\n",
       "      <td>4.257805</td>\n",
       "      <td>1</td>\n",
       "    </tr>\n",
       "    <tr>\n",
       "      <th>2</th>\n",
       "      <td>9.239440</td>\n",
       "      <td>212.569076</td>\n",
       "      <td>14829.624210</td>\n",
       "      <td>7.172920</td>\n",
       "      <td>324.128915</td>\n",
       "      <td>575.421968</td>\n",
       "      <td>16.581120</td>\n",
       "      <td>66.885270</td>\n",
       "      <td>3.471971</td>\n",
       "      <td>1</td>\n",
       "    </tr>\n",
       "    <tr>\n",
       "      <th>4</th>\n",
       "      <td>6.321259</td>\n",
       "      <td>207.257710</td>\n",
       "      <td>8532.139517</td>\n",
       "      <td>5.987877</td>\n",
       "      <td>286.489280</td>\n",
       "      <td>491.765313</td>\n",
       "      <td>10.546886</td>\n",
       "      <td>74.502808</td>\n",
       "      <td>4.501457</td>\n",
       "      <td>0</td>\n",
       "    </tr>\n",
       "    <tr>\n",
       "      <th>7</th>\n",
       "      <td>4.901907</td>\n",
       "      <td>141.930781</td>\n",
       "      <td>13614.750930</td>\n",
       "      <td>8.306960</td>\n",
       "      <td>368.618688</td>\n",
       "      <td>439.055356</td>\n",
       "      <td>9.921623</td>\n",
       "      <td>82.660165</td>\n",
       "      <td>4.103534</td>\n",
       "      <td>1</td>\n",
       "    </tr>\n",
       "    <tr>\n",
       "      <th>9</th>\n",
       "      <td>7.381758</td>\n",
       "      <td>203.460302</td>\n",
       "      <td>1372.091043</td>\n",
       "      <td>11.129154</td>\n",
       "      <td>475.737460</td>\n",
       "      <td>361.342496</td>\n",
       "      <td>16.548438</td>\n",
       "      <td>55.132546</td>\n",
       "      <td>3.338022</td>\n",
       "      <td>1</td>\n",
       "    </tr>\n",
       "    <tr>\n",
       "      <th>...</th>\n",
       "      <td>...</td>\n",
       "      <td>...</td>\n",
       "      <td>...</td>\n",
       "      <td>...</td>\n",
       "      <td>...</td>\n",
       "      <td>...</td>\n",
       "      <td>...</td>\n",
       "      <td>...</td>\n",
       "      <td>...</td>\n",
       "      <td>...</td>\n",
       "    </tr>\n",
       "    <tr>\n",
       "      <th>3262</th>\n",
       "      <td>5.497580</td>\n",
       "      <td>204.682870</td>\n",
       "      <td>29493.422970</td>\n",
       "      <td>7.604130</td>\n",
       "      <td>323.608786</td>\n",
       "      <td>476.844459</td>\n",
       "      <td>16.672415</td>\n",
       "      <td>83.413838</td>\n",
       "      <td>5.060115</td>\n",
       "      <td>0</td>\n",
       "    </tr>\n",
       "    <tr>\n",
       "      <th>3264</th>\n",
       "      <td>5.575921</td>\n",
       "      <td>223.374007</td>\n",
       "      <td>14553.132310</td>\n",
       "      <td>9.689175</td>\n",
       "      <td>234.609808</td>\n",
       "      <td>252.968328</td>\n",
       "      <td>12.249489</td>\n",
       "      <td>59.523003</td>\n",
       "      <td>4.294448</td>\n",
       "      <td>0</td>\n",
       "    </tr>\n",
       "    <tr>\n",
       "      <th>3269</th>\n",
       "      <td>6.792407</td>\n",
       "      <td>306.627481</td>\n",
       "      <td>28508.216930</td>\n",
       "      <td>6.811416</td>\n",
       "      <td>293.078305</td>\n",
       "      <td>306.115539</td>\n",
       "      <td>9.006143</td>\n",
       "      <td>60.912034</td>\n",
       "      <td>2.505650</td>\n",
       "      <td>1</td>\n",
       "    </tr>\n",
       "    <tr>\n",
       "      <th>3271</th>\n",
       "      <td>5.117914</td>\n",
       "      <td>179.701677</td>\n",
       "      <td>26215.401100</td>\n",
       "      <td>5.502903</td>\n",
       "      <td>303.257592</td>\n",
       "      <td>369.618616</td>\n",
       "      <td>14.761878</td>\n",
       "      <td>82.831554</td>\n",
       "      <td>3.806700</td>\n",
       "      <td>0</td>\n",
       "    </tr>\n",
       "    <tr>\n",
       "      <th>3272</th>\n",
       "      <td>5.915807</td>\n",
       "      <td>195.744074</td>\n",
       "      <td>12431.803110</td>\n",
       "      <td>6.661616</td>\n",
       "      <td>380.725336</td>\n",
       "      <td>367.854025</td>\n",
       "      <td>21.300647</td>\n",
       "      <td>90.394895</td>\n",
       "      <td>4.513201</td>\n",
       "      <td>0</td>\n",
       "    </tr>\n",
       "  </tbody>\n",
       "</table>\n",
       "<p>2011 rows × 10 columns</p>\n",
       "</div>"
      ],
      "text/plain": [
       "            ph    Hardness        Solids  Chloramines     Sulfate  \\\n",
       "0     7.560392  223.232250  14739.068540     6.731611  372.028909   \n",
       "2     9.239440  212.569076  14829.624210     7.172920  324.128915   \n",
       "4     6.321259  207.257710   8532.139517     5.987877  286.489280   \n",
       "7     4.901907  141.930781  13614.750930     8.306960  368.618688   \n",
       "9     7.381758  203.460302   1372.091043    11.129154  475.737460   \n",
       "...        ...         ...           ...          ...         ...   \n",
       "3262  5.497580  204.682870  29493.422970     7.604130  323.608786   \n",
       "3264  5.575921  223.374007  14553.132310     9.689175  234.609808   \n",
       "3269  6.792407  306.627481  28508.216930     6.811416  293.078305   \n",
       "3271  5.117914  179.701677  26215.401100     5.502903  303.257592   \n",
       "3272  5.915807  195.744074  12431.803110     6.661616  380.725336   \n",
       "\n",
       "      Conductivity  Organic_carbon  Trihalomethanes  Turbidity  Potability  \n",
       "0       481.341774        8.900409        62.134281   4.257805           1  \n",
       "2       575.421968       16.581120        66.885270   3.471971           1  \n",
       "4       491.765313       10.546886        74.502808   4.501457           0  \n",
       "7       439.055356        9.921623        82.660165   4.103534           1  \n",
       "9       361.342496       16.548438        55.132546   3.338022           1  \n",
       "...            ...             ...              ...        ...         ...  \n",
       "3262    476.844459       16.672415        83.413838   5.060115           0  \n",
       "3264    252.968328       12.249489        59.523003   4.294448           0  \n",
       "3269    306.115539        9.006143        60.912034   2.505650           1  \n",
       "3271    369.618616       14.761878        82.831554   3.806700           0  \n",
       "3272    367.854025       21.300647        90.394895   4.513201           0  \n",
       "\n",
       "[2011 rows x 10 columns]"
      ]
     },
     "execution_count": 116,
     "metadata": {},
     "output_type": "execute_result"
    }
   ],
   "source": [
    "df = df.sample(frac=1).reset_index(drop=True).dropna()\n",
    "df"
   ]
  },
  {
   "cell_type": "markdown",
   "metadata": {},
   "source": [
    "### KNN Model"
   ]
  },
  {
   "cell_type": "code",
   "execution_count": 4,
   "metadata": {},
   "outputs": [],
   "source": [
    "# Step 1:\n",
    "# calculate the Euclidean distance between two vectors\n",
    "def euclidean_distance(row1, row2):\n",
    "\tdistance = 0.0\n",
    "\t# print(\"\\nr1:\", row1)\n",
    "\t# print(\"\\nr2:\", row2)\n",
    "\tfor i in range(len(row1)-1):\n",
    "\t\tdistance += (row1[i] - row2[i])**2\n",
    "\treturn np.sqrt(distance)"
   ]
  },
  {
   "cell_type": "code",
   "execution_count": 5,
   "metadata": {},
   "outputs": [],
   "source": [
    "def p_root(value, root):\n",
    "     \n",
    "    root_value = 1 / float(root)\n",
    "    return round (Decimal(value) **\n",
    "             Decimal(root_value), 3)\n",
    " \n",
    "def minkowski_distance(x, y, p_value):\n",
    "     \n",
    "    # pass the p_root function to calculate\n",
    "    # all the value of vector parallelly\n",
    "    return (p_root(sum(pow(abs(a-b), p_value)\n",
    "            for a, b in zip(x, y)), p_value))"
   ]
  },
  {
   "cell_type": "code",
   "execution_count": 6,
   "metadata": {},
   "outputs": [],
   "source": [
    "# Locate the most similar neighbors\n",
    "def get_neighbors(train, test_row, num_neighbors):\n",
    "\tdistances = list()\n",
    "\tfor train_row in train:\n",
    "\t\t# print(\"TRAIN: \", train_row)\n",
    "\t\t# print(\"\\n\\nTEST: \", test_row)\n",
    "\t\tdist = euclidean_distance(train_row, test_row)\n",
    "\t\tdistances.append((train_row, dist))\n",
    "\tdistances.sort(key=lambda tup: tup[1])\n",
    "\tneighbors = list()\n",
    "\tfor i in range(num_neighbors):\n",
    "\t\tneighbors.append(distances[i][0])\n",
    "\treturn neighbors"
   ]
  },
  {
   "cell_type": "code",
   "execution_count": 7,
   "metadata": {},
   "outputs": [],
   "source": [
    "# Make a classification prediction with neighbors\n",
    "def predict_classification(train, test_row, num_neighbors):\n",
    "\tneighbors = get_neighbors(train, test_row, num_neighbors)\n",
    "\toutput_values = [row[-1] for row in neighbors]\n",
    "\t#print(output_values)\n",
    "\tprediction = max(set(output_values), key=output_values.count)\n",
    "\treturn prediction"
   ]
  },
  {
   "cell_type": "markdown",
   "metadata": {},
   "source": [
    "### Logestic Regression Model "
   ]
  },
  {
   "cell_type": "code",
   "execution_count": 48,
   "metadata": {},
   "outputs": [],
   "source": [
    "# Standardizing the data\n",
    "\"\"\"We Standardize the date around its mean with a unit standard deviation.\n",
    "We do this so that the data with a higher range do not dominate the outcome. \n",
    "We do it for this model because the features are on diffrent scales.\"\"\"\n",
    "\n",
    "def standardize(X):\n",
    "    for col in X.columns:\n",
    "        X[col] = (X[col] - X[col].mean()) / X[col].std()\n",
    "\n",
    "\n",
    "# Sigmoid function\n",
    "\"\"\"In Logistic Regression the final outcome is a class such as \"yes\" or \"no\".\n",
    "Whereas in Linear regression the final outcome is determined by an equation that can output a contineous value.\n",
    "Since we need our final value to be a binomial value (in this case 0 or 1) we would use a sigmoid function that limit our output between 0 and 1.\n",
    "\"\"\"\n",
    "def sigmoid(x):\n",
    "        sig = 1/(1 + np.exp(-x))\n",
    "        return sig\n",
    "\n",
    "\n",
    "\"\"\"We also need a cost/loss function that calculates how far we are from our goal.\n",
    "Linear refression utilizes least squared error which is a non-convex function. \n",
    "Since we are going to rely on gradient decent to optemize our predictions \n",
    "we will be using log loss function that is a convex function so that during our decent\n",
    "we get stuck in a local minimum.\n",
    "\"\"\"\n",
    "\n",
    "def fit_logestic(X, y, learning_Rate = 0.0001, n_iterations = 100):\n",
    "        w = np.zeros(X.shape[1])\n",
    "        b = 0\n",
    "\n",
    "        for i in range(n_iterations):\n",
    "                w, b = update_weights(X, y, w, b, learning_Rate)\n",
    "        return w, b\n",
    "                \n",
    "\n",
    "\n",
    "def update_weights(X, y, w, b, learning_rate):\n",
    "    A = sigmoid(X.dot(w) + b)\n",
    "    # calculating the gradient decent\n",
    "    temp = np.reshape(A - y.T, X.shape[0])\n",
    "    dw = np.dot(X.T, temp)\n",
    "    db = np.sum(temp) / X.shape[0]\n",
    "    w = w - learning_rate * dw\n",
    "    b = b - learning_rate * db\n",
    "    return w, b\n",
    "\n",
    "\n",
    "def precict_logestic(X, w, b):\n",
    "    Z = sigmoid(X.dot( w ) + b)\n",
    "    Y = np.where( Z > 0.5, 1, 0 )        \n",
    "    return Y"
   ]
  },
  {
   "cell_type": "markdown",
   "metadata": {},
   "source": [
    "### Gaussian NB Classifier"
   ]
  },
  {
   "cell_type": "code",
   "execution_count": 9,
   "metadata": {},
   "outputs": [],
   "source": [
    "def gaussian_class_conditional(X,y):\n",
    "    probs = {}\n",
    "    for cols in X.columns:\n",
    "        new_df = pd.concat([X[cols], y], axis=1)\n",
    "        new_df = new_df.groupby(y.name)\n",
    "        mean, var = new_df[cols].mean(), new_df[cols].var()\n",
    "        probs[cols] = (mean, var)\n",
    "    return probs"
   ]
  },
  {
   "cell_type": "code",
   "execution_count": 10,
   "metadata": {},
   "outputs": [],
   "source": [
    "def gaussian_posteriors(probs,priors,x):\n",
    "    post_probs = {}\n",
    "    mult_stuff = {}\n",
    "    keys = []\n",
    "    idx = x.index\n",
    "    denominator_sum = 0\n",
    "    \n",
    "    for i in priors.keys():\n",
    "        mult = priors[i]\n",
    "        key = i + '|'\n",
    "        param = []\n",
    "        for col, val in zip(idx, x):\n",
    "            post_key = f\"{col}\"\n",
    "            mean, var = probs[post_key]\n",
    "\n",
    "            u = i[i.index('=') + 1:]\n",
    "            index = int(u) if str.isdigit(u) else u\n",
    "            part1 = 1 / np.sqrt(2 * np.pi * var[index])\n",
    "            part2 = (val - mean[index]) ** 2\n",
    "            part3 = 2 * var[index]\n",
    "            mult *= part1 * np.exp(-1 * (part2 / part3)) \n",
    "            param.append(f\"{col}={val}\")\n",
    "        key = key + ','.join(param)\n",
    "        mult_stuff[key] = mult\n",
    "        keys.append(key)\n",
    "        denominator_sum += mult\n",
    "    \n",
    "    for i in range(len(mult_stuff)):\n",
    "        post_probs[keys[i]] = (mult_stuff[keys[i]] / denominator_sum) if denominator_sum !=0 else 0\n",
    "    return post_probs"
   ]
  },
  {
   "cell_type": "code",
   "execution_count": 11,
   "metadata": {},
   "outputs": [],
   "source": [
    "def compute_priors(y):\n",
    "    priors = {}\n",
    "    probs = dict(y.value_counts() / len(y))\n",
    "    name = y.name + '='\n",
    "    priors = {name+str(key) : value for (key, value) in probs.items()}\n",
    "    return dict(collections.OrderedDict(sorted(priors.items())))"
   ]
  },
  {
   "cell_type": "code",
   "execution_count": 12,
   "metadata": {},
   "outputs": [],
   "source": [
    "def my_func(a, b, c, col_type):\n",
    "    probs = gaussian_posteriors(b, c, a)\n",
    "    u = max(probs, key = probs.get)\n",
    "    return col_type(re.search('[=](.*)[\\|]', u).group(1))\n",
    "\n",
    "def predict_gaussian(Xtrain, ytrain, Xtest):\n",
    "    probs = gaussian_class_conditional(Xtrain, ytrain)\n",
    "    priors = compute_priors(ytrain)\n",
    "    return Xtest.apply(my_func, axis = 1, args = (probs,priors, type(ytrain.iloc[0])))"
   ]
  },
  {
   "cell_type": "code",
   "execution_count": 13,
   "metadata": {},
   "outputs": [],
   "source": [
    "X, y = df[df.columns[:-1]], df[df.columns[-1]]"
   ]
  },
  {
   "cell_type": "code",
   "execution_count": 14,
   "metadata": {},
   "outputs": [],
   "source": [
    "''' train test split '''\n",
    "X_train, X_test, y_train, y_test = train_test_split(X, y, test_size=0.2, random_state=0)"
   ]
  },
  {
   "cell_type": "code",
   "execution_count": 15,
   "metadata": {},
   "outputs": [],
   "source": [
    "''' standard scaler '''\n",
    "sc = StandardScaler()\n",
    "sc.fit(X_train)\n",
    "standardize(X_train)\n",
    "X_test = sc.transform(X_test)\n",
    "X_test = pd.DataFrame(X_test, columns=X_train.columns)"
   ]
  },
  {
   "cell_type": "markdown",
   "metadata": {},
   "source": [
    "### Testing models made by us"
   ]
  },
  {
   "cell_type": "code",
   "execution_count": 153,
   "metadata": {},
   "outputs": [],
   "source": [
    "results_acc = []\n",
    "result_name = []"
   ]
  },
  {
   "cell_type": "markdown",
   "metadata": {},
   "source": [
    "#### Logestic Regression"
   ]
  },
  {
   "cell_type": "code",
   "execution_count": 154,
   "metadata": {},
   "outputs": [],
   "source": [
    "W, b = fit_logestic(X_train, y_train)\n",
    "y_pred = precict_logestic(X_test, W, b)\n",
    "results_acc.append(accuracy_score(y_test, y_pred))\n",
    "result_name.append('LogisticRegression')"
   ]
  },
  {
   "cell_type": "markdown",
   "metadata": {},
   "source": [
    "#### KNN classifier"
   ]
  },
  {
   "cell_type": "code",
   "execution_count": 155,
   "metadata": {},
   "outputs": [],
   "source": [
    "data = X_train.copy()\n",
    "data[y_train.name] = y_train\n",
    "data = data.to_numpy()\n",
    "max_acc = -np.inf\n",
    "test = X_test.to_numpy()\n",
    "best_c = 0\n",
    "acc = []\n",
    "neigh = []\n",
    "for c in range(1, 20):\n",
    "    pred = []\n",
    "    for i in test:\n",
    "        prediction = predict_classification(data, i, c)\n",
    "        pred.append(prediction)\n",
    "    \n",
    "    a = accuracy_score(y_test, pred)\n",
    "    acc.append(a)\n",
    "    neigh.append(c)\n",
    "    if a > max_acc:\n",
    "        max_acc = a\n",
    "        best_c = c\n",
    "\n",
    "results_acc.append(max_acc)\n",
    "result_name.append(\"KNeighborsClassifier\")"
   ]
  },
  {
   "cell_type": "markdown",
   "metadata": {},
   "source": [
    "#### Gaussian NB"
   ]
  },
  {
   "cell_type": "code",
   "execution_count": 156,
   "metadata": {},
   "outputs": [],
   "source": [
    "y_pred = predict_gaussian(X_train, y_train, X_test)\n",
    "results_acc.append(accuracy_score(y_test, y_pred))\n",
    "result_name.append('GaussianNB')"
   ]
  },
  {
   "cell_type": "markdown",
   "metadata": {},
   "source": [
    "### Plotting our results"
   ]
  },
  {
   "cell_type": "code",
   "execution_count": 157,
   "metadata": {},
   "outputs": [
    {
     "data": {
      "text/plain": [
       "Text(0, 0.5, 'Model Name')"
      ]
     },
     "execution_count": 157,
     "metadata": {},
     "output_type": "execute_result"
    },
    {
     "data": {
      "image/png": "[encoded data removed]",
      "text/plain": [
       "<Figure size 720x360 with 1 Axes>"
      ]
     },
     "metadata": {
      "needs_background": "light"
     },
     "output_type": "display_data"
    }
   ],
   "source": [
    "''' barplot plot models accuracy '''\n",
    "plt.figure(figsize=(10, 5))\n",
    "sns.barplot(results_acc, result_name,)\n",
    "plt.xlabel('Model Accuracy', fontsize=15)\n",
    "plt.ylabel('Model Name', fontsize=15)"
   ]
  },
  {
   "cell_type": "markdown",
   "metadata": {},
   "source": [
    "### Testing the inbuilt models"
   ]
  },
  {
   "cell_type": "code",
   "execution_count": 158,
   "metadata": {},
   "outputs": [],
   "source": [
    "models_acc = []\n",
    "\n",
    "models = [LogisticRegression(penalty='none'), KNeighborsClassifier(metric='euclidean', n_neighbors=best_c), GaussianNB()]\n",
    "\n",
    "for model in models:\n",
    "    ''' fit on data '''\n",
    "    model.fit(X_train, y_train)\n",
    "    \n",
    "    pred = model.predict(X_test)\n",
    "    \n",
    "    ''' appending result to model_acc'''\n",
    "    models_acc.append(accuracy_score(y_test, pred))"
   ]
  },
  {
   "cell_type": "code",
   "execution_count": 159,
   "metadata": {},
   "outputs": [],
   "source": [
    "''' creating dataframe '''\n",
    "res = pd.DataFrame({\n",
    "    'Model Accuracy': models_acc, \n",
    "    \"Model Name\": ['LogisticRegression', 'KNeighborsClassifier', 'GaussianNB']\n",
    "})"
   ]
  },
  {
   "cell_type": "code",
   "execution_count": 160,
   "metadata": {},
   "outputs": [
    {
     "data": {
      "image/png": "[encoded data removed]",
      "text/plain": [
       "<Figure size 720x360 with 1 Axes>"
      ]
     },
     "metadata": {
      "needs_background": "light"
     },
     "output_type": "display_data"
    }
   ],
   "source": [
    "''' barplot plot models accuracy '''\n",
    "plt.figure(figsize=(10, 5))\n",
    "sns.barplot(res['Model Accuracy'], res['Model Name'])\n",
    "plt.xlabel('Model Accuracy', fontsize=15)\n",
    "plt.ylabel('Model Name', fontsize=15);"
   ]
  },
  {
   "cell_type": "code",
   "execution_count": 161,
   "metadata": {},
   "outputs": [],
   "source": [
    "model_results = []\n",
    "for i in range(3):\n",
    "    model_results.append([results_acc[i], result_name[i], \"Self Implemented\"])"
   ]
  },
  {
   "cell_type": "code",
   "execution_count": 162,
   "metadata": {},
   "outputs": [
    {
     "data": {
      "text/html": [
       "<div>\n",
       "<style scoped>\n",
       "    .dataframe tbody tr th:only-of-type {\n",
       "        vertical-align: middle;\n",
       "    }\n",
       "\n",
       "    .dataframe tbody tr th {\n",
       "        vertical-align: top;\n",
       "    }\n",
       "\n",
       "    .dataframe thead th {\n",
       "        text-align: right;\n",
       "    }\n",
       "</style>\n",
       "<table border=\"1\" class=\"dataframe\">\n",
       "  <thead>\n",
       "    <tr style=\"text-align: right;\">\n",
       "      <th></th>\n",
       "      <th>Model Accuracy</th>\n",
       "      <th>Model Name</th>\n",
       "      <th>Type</th>\n",
       "    </tr>\n",
       "  </thead>\n",
       "  <tbody>\n",
       "    <tr>\n",
       "      <th>0</th>\n",
       "      <td>0.573201</td>\n",
       "      <td>LogisticRegression</td>\n",
       "      <td>Scikit-learn</td>\n",
       "    </tr>\n",
       "    <tr>\n",
       "      <th>1</th>\n",
       "      <td>0.647643</td>\n",
       "      <td>KNeighborsClassifier</td>\n",
       "      <td>Scikit-learn</td>\n",
       "    </tr>\n",
       "    <tr>\n",
       "      <th>2</th>\n",
       "      <td>0.580645</td>\n",
       "      <td>GaussianNB</td>\n",
       "      <td>Scikit-learn</td>\n",
       "    </tr>\n",
       "    <tr>\n",
       "      <th>4</th>\n",
       "      <td>0.466501</td>\n",
       "      <td>LogisticRegression</td>\n",
       "      <td>Self Implemented</td>\n",
       "    </tr>\n",
       "    <tr>\n",
       "      <th>5</th>\n",
       "      <td>0.647643</td>\n",
       "      <td>KNeighborsClassifier</td>\n",
       "      <td>Self Implemented</td>\n",
       "    </tr>\n",
       "    <tr>\n",
       "      <th>6</th>\n",
       "      <td>0.580645</td>\n",
       "      <td>GaussianNB</td>\n",
       "      <td>Self Implemented</td>\n",
       "    </tr>\n",
       "  </tbody>\n",
       "</table>\n",
       "</div>"
      ],
      "text/plain": [
       "   Model Accuracy            Model Name              Type\n",
       "0        0.573201    LogisticRegression      Scikit-learn\n",
       "1        0.647643  KNeighborsClassifier      Scikit-learn\n",
       "2        0.580645            GaussianNB      Scikit-learn\n",
       "4        0.466501    LogisticRegression  Self Implemented\n",
       "5        0.647643  KNeighborsClassifier  Self Implemented\n",
       "6        0.580645            GaussianNB  Self Implemented"
      ]
     },
     "execution_count": 162,
     "metadata": {},
     "output_type": "execute_result"
    }
   ],
   "source": [
    "res[\"Type\"] = \"Scikit-learn\"\n",
    "for i in model_results:\n",
    "    res.loc[len(res) + 1] = i\n",
    "\n",
    "res"
   ]
  },
  {
   "cell_type": "code",
   "execution_count": 163,
   "metadata": {},
   "outputs": [
    {
     "data": {
      "text/plain": [
       "<matplotlib.legend.Legend at 0x282b37610>"
      ]
     },
     "execution_count": 163,
     "metadata": {},
     "output_type": "execute_result"
    },
    {
     "data": {
      "image/png": "[encoded data removed]",
      "text/plain": [
       "<Figure size 648x432 with 1 Axes>"
      ]
     },
     "metadata": {
      "needs_background": "light"
     },
     "output_type": "display_data"
    }
   ],
   "source": [
    "from matplotlib import rcParams\n",
    "rcParams['figure.figsize'] = 9, 6\n",
    "\n",
    "ax = sns.barplot(x=\"Model Name\", y=\"Model Accuracy\", hue=\"Type\", data=res, ci=\"sd\", errwidth=0)\n",
    "for i in ax.containers:\n",
    "    ax.bar_label(i,)\n",
    "plt.legend( bbox_to_anchor=(1.2, 1), borderaxespad=0)"
   ]
  },
  {
   "cell_type": "code",
   "execution_count": 164,
   "metadata": {},
   "outputs": [
    {
     "name": "stderr",
     "output_type": "stream",
     "text": [
      "[0311/172554.766758:INFO:headless_shell.cc(659)] Written to file /var/folders/_y/djxc8y154lqd3g7r7v5z_c8w0000gn/T/tmpyvf5kwgz/temp.png.\n"
     ]
    }
   ],
   "source": [
    "# import dataframe_image as dfi\n",
    "# data = X_train.copy()\n",
    "# data[y_train.name] = y_train\n",
    "# data = data.reset_index(drop=True)\n",
    "# dfi.export(data.head(10), 'dataframe.png')"
   ]
  },
  {
   "cell_type": "code",
   "execution_count": null,
   "metadata": {},
   "outputs": [],
   "source": []
  },
  {
   "cell_type": "code",
   "execution_count": 165,
   "metadata": {},
   "outputs": [
    {
     "data": {
      "image/png": "[encoded data removed]",
      "text/plain": [
       "<Figure size 648x432 with 1 Axes>"
      ]
     },
     "metadata": {
      "needs_background": "light"
     },
     "output_type": "display_data"
    }
   ],
   "source": [
    "# for i in ['LogisticRegression', 'KNeighborsClassifier', 'GaussianNB']:\n",
    "#     lr = res[res['Model Name'] == i]\n",
    "#     lr['Model Accuracy'] *= 100\n",
    "#     ax = None\n",
    "#     ax = sns.barplot(x=\"Type\", y=\"Model Accuracy\", data=lr)\n",
    "#     for j in ax.containers:\n",
    "#         ax.bar_label(j,)\n",
    "#     ax.set(title = i)\n",
    "#     ax.figure.savefig(i + '.png')\n",
    "#     ax.clear()"
   ]
  },
  {
   "cell_type": "code",
   "execution_count": 182,
   "metadata": {},
   "outputs": [
    {
     "data": {
      "text/html": [
       "\n",
       "<div id=\"altair-viz-d048b8ac994e4cffb723971bf14aee34\"></div>\n",
       "<script type=\"text/javascript\">\n",
       "  var VEGA_DEBUG = (typeof VEGA_DEBUG == \"undefined\") ? {} : VEGA_DEBUG;\n",
       "  (function(spec, embedOpt){\n",
       "    let outputDiv = document.currentScript.previousElementSibling;\n",
       "    if (outputDiv.id !== \"altair-viz-d048b8ac994e4cffb723971bf14aee34\") {\n",
       "      outputDiv = document.getElementById(\"altair-viz-d048b8ac994e4cffb723971bf14aee34\");\n",
       "    }\n",
       "    const paths = {\n",
       "      \"vega\": \"https://cdn.jsdelivr.net/npm//vega@5?noext\",\n",
       "      \"vega-lib\": \"https://cdn.jsdelivr.net/npm//vega-lib?noext\",\n",
       "      \"vega-lite\": \"https://cdn.jsdelivr.net/npm//vega-lite@4.17.0?noext\",\n",
       "      \"vega-embed\": \"https://cdn.jsdelivr.net/npm//vega-embed@6?noext\",\n",
       "    };\n",
       "\n",
       "    function maybeLoadScript(lib, version) {\n",
       "      var key = `${lib.replace(\"-\", \"\")}_version`;\n",
       "      return (VEGA_DEBUG[key] == version) ?\n",
       "        Promise.resolve(paths[lib]) :\n",
       "        new Promise(function(resolve, reject) {\n",
       "          var s = document.createElement('script');\n",
       "          document.getElementsByTagName(\"head\")[0].appendChild(s);\n",
       "          s.async = true;\n",
       "          s.onload = () => {\n",
       "            VEGA_DEBUG[key] = version;\n",
       "            return resolve(paths[lib]);\n",
       "          };\n",
       "          s.onerror = () => reject(`Error loading script: ${paths[lib]}`);\n",
       "          s.src = paths[lib];\n",
       "        });\n",
       "    }\n",
       "\n",
       "    function showError(err) {\n",
       "      outputDiv.innerHTML = `<div class=\"error\" style=\"color:red;\">${err}</div>`;\n",
       "      throw err;\n",
       "    }\n",
       "\n",
       "    function displayChart(vegaEmbed) {\n",
       "      vegaEmbed(outputDiv, spec, embedOpt)\n",
       "        .catch(err => showError(`Javascript Error: ${err.message}<br>This usually means there's a typo in your chart specification. See the javascript console for the full traceback.`));\n",
       "    }\n",
       "\n",
       "    if(typeof define === \"function\" && define.amd) {\n",
       "      requirejs.config({paths});\n",
       "      require([\"vega-embed\"], displayChart, err => showError(`Error loading script: ${err.message}`));\n",
       "    } else {\n",
       "      maybeLoadScript(\"vega\", \"5\")\n",
       "        .then(() => maybeLoadScript(\"vega-lite\", \"4.17.0\"))\n",
       "        .then(() => maybeLoadScript(\"vega-embed\", \"6\"))\n",
       "        .catch(showError)\n",
       "        .then(() => displayChart(vegaEmbed));\n",
       "    }\n",
       "  })({\"config\": {\"view\": {\"continuousWidth\": 400, \"continuousHeight\": 300}}, \"data\": {\"name\": \"data-270761d50b3e9b6dea7f83ded153e690\"}, \"mark\": \"line\", \"encoding\": {\"x\": {\"field\": \"neighbors\", \"type\": \"quantitative\"}, \"y\": {\"field\": \"accuracy\", \"scale\": {\"zero\": false}, \"type\": \"quantitative\"}}, \"$schema\": \"https://vega.github.io/schema/vega-lite/v4.17.0.json\", \"datasets\": {\"data-270761d50b3e9b6dea7f83ded153e690\": [{\"neighbors\": 1, \"accuracy\": 0.6104218362282878}, {\"neighbors\": 2, \"accuracy\": 0.5856079404466501}, {\"neighbors\": 3, \"accuracy\": 0.6004962779156328}, {\"neighbors\": 4, \"accuracy\": 0.5905707196029777}, {\"neighbors\": 5, \"accuracy\": 0.6153846153846154}, {\"neighbors\": 6, \"accuracy\": 0.6153846153846154}, {\"neighbors\": 7, \"accuracy\": 0.607940446650124}, {\"neighbors\": 8, \"accuracy\": 0.6178660049627791}, {\"neighbors\": 9, \"accuracy\": 0.6153846153846154}, {\"neighbors\": 10, \"accuracy\": 0.6352357320099256}, {\"neighbors\": 11, \"accuracy\": 0.6426799007444168}, {\"neighbors\": 12, \"accuracy\": 0.6401985111662531}, {\"neighbors\": 13, \"accuracy\": 0.6401985111662531}, {\"neighbors\": 14, \"accuracy\": 0.6377171215880894}, {\"neighbors\": 15, \"accuracy\": 0.6352357320099256}, {\"neighbors\": 16, \"accuracy\": 0.6451612903225806}, {\"neighbors\": 17, \"accuracy\": 0.6476426799007444}, {\"neighbors\": 18, \"accuracy\": 0.6426799007444168}, {\"neighbors\": 19, \"accuracy\": 0.6377171215880894}]}}, {\"mode\": \"vega-lite\"});\n",
       "</script>"
      ],
      "text/plain": [
       "alt.Chart(...)"
      ]
     },
     "execution_count": 182,
     "metadata": {},
     "output_type": "execute_result"
    }
   ],
   "source": [
    "# import altair as alt\n",
    "# source = pd.DataFrame({\n",
    "#   'neighbors': neigh,\n",
    "#   'accuracy': acc\n",
    "# })\n",
    "# scale=alt.Scale(zero=False)\n",
    "# u = alt.Chart(source).mark_line().encode(\n",
    "#     x='neighbors',\n",
    "#     y=alt.Y('accuracy', scale=alt.Scale(zero=False)), \n",
    "\n",
    "# )\n",
    "# u"
   ]
  },
  {
   "cell_type": "code",
   "execution_count": null,
   "metadata": {},
   "outputs": [],
   "source": []
  }
 ],
 "metadata": {
  "interpreter": {
   "hash": "b0fa6594d8f4cbf19f97940f81e996739fb7646882a419484c72d19e05852a7e"
  },
  "kernelspec": {
   "display_name": "Python 3.9.7 64-bit",
   "language": "python",
   "name": "python3"
  },
  "language_info": {
   "codemirror_mode": {
    "name": "ipython",
    "version": 3
   },
   "file_extension": ".py",
   "mimetype": "text/x-python",
   "name": "python",
   "nbconvert_exporter": "python",
   "pygments_lexer": "ipython3",
   "version": "3.9.10"
  },
  "orig_nbformat": 4
 },
 "nbformat": 4,
 "nbformat_minor": 2
}
