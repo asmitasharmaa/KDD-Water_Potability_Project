{
 "cells": [
  {
   "cell_type": "markdown",
   "metadata": {},
   "source": [
    "# Water Potability Prediction"
   ]
  },
  {
   "cell_type": "code",
   "execution_count": 23,
   "metadata": {},
   "outputs": [],
   "source": [
    "import numpy as np\n",
    "import pandas as pd\n",
    "import matplotlib.pyplot as plt\n",
    "import warnings\n",
    "warnings.filterwarnings('ignore')\n",
    "import seaborn as sns\n",
    "from scipy.stats import mode\n",
    "from sklearn.model_selection import train_test_split\n",
    "from sklearn.preprocessing import StandardScaler\n",
    "from sklearn.linear_model import LogisticRegression\n",
    "from sklearn.naive_bayes import GaussianNB\n",
    "from sklearn.neighbors import KNeighborsClassifier\n",
    "from sklearn.metrics import accuracy_score"
   ]
  },
  {
   "cell_type": "code",
   "execution_count": 5,
   "metadata": {},
   "outputs": [],
   "source": [
    "df = pd.read_csv(\"/Users/asmitasharma/Downloads/KDD Project/drinking_water_potability.csv\")"
   ]
  },
  {
   "cell_type": "code",
   "execution_count": 6,
   "metadata": {},
   "outputs": [
    {
     "data": {
      "text/plain": [
       "(3276, 10)"
      ]
     },
     "execution_count": 6,
     "metadata": {},
     "output_type": "execute_result"
    }
   ],
   "source": [
    "df.shape"
   ]
  },
  {
   "cell_type": "code",
   "execution_count": 7,
   "metadata": {},
   "outputs": [],
   "source": [
    "df = df.dropna()"
   ]
  },
  {
   "cell_type": "code",
   "execution_count": 8,
   "metadata": {},
   "outputs": [
    {
     "data": {
      "text/plain": [
       "(2011, 10)"
      ]
     },
     "execution_count": 8,
     "metadata": {},
     "output_type": "execute_result"
    }
   ],
   "source": [
    "df.shape"
   ]
  },
  {
   "cell_type": "code",
   "execution_count": 9,
   "metadata": {},
   "outputs": [
    {
     "data": {
      "text/html": [
       "<div>\n",
       "<style scoped>\n",
       "    .dataframe tbody tr th:only-of-type {\n",
       "        vertical-align: middle;\n",
       "    }\n",
       "\n",
       "    .dataframe tbody tr th {\n",
       "        vertical-align: top;\n",
       "    }\n",
       "\n",
       "    .dataframe thead th {\n",
       "        text-align: right;\n",
       "    }\n",
       "</style>\n",
       "<table border=\"1\" class=\"dataframe\">\n",
       "  <thead>\n",
       "    <tr style=\"text-align: right;\">\n",
       "      <th></th>\n",
       "      <th>ph</th>\n",
       "      <th>Hardness</th>\n",
       "      <th>Solids</th>\n",
       "      <th>Chloramines</th>\n",
       "      <th>Sulfate</th>\n",
       "      <th>Conductivity</th>\n",
       "      <th>Organic_carbon</th>\n",
       "      <th>Trihalomethanes</th>\n",
       "      <th>Turbidity</th>\n",
       "      <th>Potability</th>\n",
       "    </tr>\n",
       "  </thead>\n",
       "  <tbody>\n",
       "    <tr>\n",
       "      <th>0</th>\n",
       "      <td>6.209697</td>\n",
       "      <td>169.318505</td>\n",
       "      <td>22610.768710</td>\n",
       "      <td>4.875414</td>\n",
       "      <td>327.379938</td>\n",
       "      <td>549.276728</td>\n",
       "      <td>17.015118</td>\n",
       "      <td>51.505508</td>\n",
       "      <td>3.893767</td>\n",
       "      <td>0</td>\n",
       "    </tr>\n",
       "    <tr>\n",
       "      <th>1</th>\n",
       "      <td>5.608623</td>\n",
       "      <td>271.882219</td>\n",
       "      <td>43680.222520</td>\n",
       "      <td>4.157335</td>\n",
       "      <td>366.866533</td>\n",
       "      <td>450.896053</td>\n",
       "      <td>16.442753</td>\n",
       "      <td>61.249762</td>\n",
       "      <td>3.777508</td>\n",
       "      <td>1</td>\n",
       "    </tr>\n",
       "    <tr>\n",
       "      <th>2</th>\n",
       "      <td>7.021295</td>\n",
       "      <td>225.350498</td>\n",
       "      <td>23109.854230</td>\n",
       "      <td>5.907273</td>\n",
       "      <td>320.535989</td>\n",
       "      <td>459.899890</td>\n",
       "      <td>13.670099</td>\n",
       "      <td>77.339918</td>\n",
       "      <td>3.675558</td>\n",
       "      <td>0</td>\n",
       "    </tr>\n",
       "    <tr>\n",
       "      <th>3</th>\n",
       "      <td>8.551078</td>\n",
       "      <td>216.415932</td>\n",
       "      <td>28909.290280</td>\n",
       "      <td>6.936782</td>\n",
       "      <td>295.223707</td>\n",
       "      <td>510.895001</td>\n",
       "      <td>16.202371</td>\n",
       "      <td>79.859323</td>\n",
       "      <td>4.046380</td>\n",
       "      <td>0</td>\n",
       "    </tr>\n",
       "    <tr>\n",
       "      <th>4</th>\n",
       "      <td>6.128426</td>\n",
       "      <td>141.492410</td>\n",
       "      <td>9615.832710</td>\n",
       "      <td>7.627919</td>\n",
       "      <td>277.951704</td>\n",
       "      <td>415.008737</td>\n",
       "      <td>16.435843</td>\n",
       "      <td>50.693927</td>\n",
       "      <td>4.633824</td>\n",
       "      <td>0</td>\n",
       "    </tr>\n",
       "    <tr>\n",
       "      <th>...</th>\n",
       "      <td>...</td>\n",
       "      <td>...</td>\n",
       "      <td>...</td>\n",
       "      <td>...</td>\n",
       "      <td>...</td>\n",
       "      <td>...</td>\n",
       "      <td>...</td>\n",
       "      <td>...</td>\n",
       "      <td>...</td>\n",
       "      <td>...</td>\n",
       "    </tr>\n",
       "    <tr>\n",
       "      <th>2006</th>\n",
       "      <td>5.841119</td>\n",
       "      <td>194.616894</td>\n",
       "      <td>17721.959560</td>\n",
       "      <td>5.646297</td>\n",
       "      <td>410.358673</td>\n",
       "      <td>622.963575</td>\n",
       "      <td>17.629541</td>\n",
       "      <td>93.070691</td>\n",
       "      <td>4.237560</td>\n",
       "      <td>0</td>\n",
       "    </tr>\n",
       "    <tr>\n",
       "      <th>2007</th>\n",
       "      <td>10.272444</td>\n",
       "      <td>163.624623</td>\n",
       "      <td>18894.852390</td>\n",
       "      <td>10.068205</td>\n",
       "      <td>269.646656</td>\n",
       "      <td>446.450725</td>\n",
       "      <td>11.856914</td>\n",
       "      <td>82.445503</td>\n",
       "      <td>3.179885</td>\n",
       "      <td>1</td>\n",
       "    </tr>\n",
       "    <tr>\n",
       "      <th>2008</th>\n",
       "      <td>5.685216</td>\n",
       "      <td>154.570002</td>\n",
       "      <td>17628.043060</td>\n",
       "      <td>6.664444</td>\n",
       "      <td>390.094731</td>\n",
       "      <td>324.427772</td>\n",
       "      <td>17.352586</td>\n",
       "      <td>67.407300</td>\n",
       "      <td>4.066157</td>\n",
       "      <td>1</td>\n",
       "    </tr>\n",
       "    <tr>\n",
       "      <th>2009</th>\n",
       "      <td>9.085637</td>\n",
       "      <td>238.221968</td>\n",
       "      <td>9001.658753</td>\n",
       "      <td>9.820231</td>\n",
       "      <td>325.104847</td>\n",
       "      <td>381.346582</td>\n",
       "      <td>19.195740</td>\n",
       "      <td>98.490819</td>\n",
       "      <td>2.544020</td>\n",
       "      <td>0</td>\n",
       "    </tr>\n",
       "    <tr>\n",
       "      <th>2010</th>\n",
       "      <td>5.555353</td>\n",
       "      <td>154.300684</td>\n",
       "      <td>20503.430050</td>\n",
       "      <td>9.644997</td>\n",
       "      <td>313.470297</td>\n",
       "      <td>355.206969</td>\n",
       "      <td>18.468690</td>\n",
       "      <td>75.140362</td>\n",
       "      <td>4.536146</td>\n",
       "      <td>0</td>\n",
       "    </tr>\n",
       "  </tbody>\n",
       "</table>\n",
       "<p>2011 rows × 10 columns</p>\n",
       "</div>"
      ],
      "text/plain": [
       "             ph    Hardness        Solids  Chloramines     Sulfate  \\\n",
       "0      6.209697  169.318505  22610.768710     4.875414  327.379938   \n",
       "1      5.608623  271.882219  43680.222520     4.157335  366.866533   \n",
       "2      7.021295  225.350498  23109.854230     5.907273  320.535989   \n",
       "3      8.551078  216.415932  28909.290280     6.936782  295.223707   \n",
       "4      6.128426  141.492410   9615.832710     7.627919  277.951704   \n",
       "...         ...         ...           ...          ...         ...   \n",
       "2006   5.841119  194.616894  17721.959560     5.646297  410.358673   \n",
       "2007  10.272444  163.624623  18894.852390    10.068205  269.646656   \n",
       "2008   5.685216  154.570002  17628.043060     6.664444  390.094731   \n",
       "2009   9.085637  238.221968   9001.658753     9.820231  325.104847   \n",
       "2010   5.555353  154.300684  20503.430050     9.644997  313.470297   \n",
       "\n",
       "      Conductivity  Organic_carbon  Trihalomethanes  Turbidity  Potability  \n",
       "0       549.276728       17.015118        51.505508   3.893767           0  \n",
       "1       450.896053       16.442753        61.249762   3.777508           1  \n",
       "2       459.899890       13.670099        77.339918   3.675558           0  \n",
       "3       510.895001       16.202371        79.859323   4.046380           0  \n",
       "4       415.008737       16.435843        50.693927   4.633824           0  \n",
       "...            ...             ...              ...        ...         ...  \n",
       "2006    622.963575       17.629541        93.070691   4.237560           0  \n",
       "2007    446.450725       11.856914        82.445503   3.179885           1  \n",
       "2008    324.427772       17.352586        67.407300   4.066157           1  \n",
       "2009    381.346582       19.195740        98.490819   2.544020           0  \n",
       "2010    355.206969       18.468690        75.140362   4.536146           0  \n",
       "\n",
       "[2011 rows x 10 columns]"
      ]
     },
     "execution_count": 9,
     "metadata": {},
     "output_type": "execute_result"
    }
   ],
   "source": [
    "df = df.sample(frac=1).reset_index(drop=True)\n",
    "df"
   ]
  },
  {
   "cell_type": "markdown",
   "metadata": {},
   "source": [
    "### Logistic regression model"
   ]
  },
  {
   "cell_type": "markdown",
   "metadata": {},
   "source": [
    "### KNN Model"
   ]
  },
  {
   "cell_type": "code",
   "execution_count": 77,
   "metadata": {},
   "outputs": [],
   "source": [
    "# Step 1:\n",
    "# calculate the Euclidean distance between two vectors\n",
    "def euclidean_distance(row1, row2):\n",
    "\tdistance = 0.0\n",
    "\t# print(\"\\nr1:\", row1)\n",
    "\t# print(\"\\nr2:\", row2)\n",
    "\tfor i in range(len(row1)-1):\n",
    "\t\tdistance += (row1[i] - row2[i])**2\n",
    "\treturn np.sqrt(distance)"
   ]
  },
  {
   "cell_type": "code",
   "execution_count": 70,
   "metadata": {},
   "outputs": [
    {
     "name": "stdout",
     "output_type": "stream",
     "text": [
      "\n",
      "r1: [2.7810836, 2.550537003, 0]\n",
      "\n",
      "r1: [2.7810836, 2.550537003, 0]\n",
      "3.800412482287723\n"
     ]
    },
    {
     "data": {
      "text/plain": [
       "1.9494646655653247"
      ]
     },
     "execution_count": 70,
     "metadata": {},
     "output_type": "execute_result"
    }
   ],
   "source": [
    "d = euclidean_distance([2.7810836,2.550537003,0], [3.396561688,4.400293529,0])\n",
    "d"
   ]
  },
  {
   "cell_type": "code",
   "execution_count": null,
   "metadata": {},
   "outputs": [],
   "source": [
    "def p_root(value, root):\n",
    "     \n",
    "    root_value = 1 / float(root)\n",
    "    return round (Decimal(value) **\n",
    "             Decimal(root_value), 3)\n",
    " \n",
    "def minkowski_distance(x, y, p_value):\n",
    "     \n",
    "    # pass the p_root function to calculate\n",
    "    # all the value of vector parallelly\n",
    "    return (p_root(sum(pow(abs(a-b), p_value)\n",
    "            for a, b in zip(x, y)), p_value))"
   ]
  },
  {
   "cell_type": "code",
   "execution_count": 79,
   "metadata": {},
   "outputs": [],
   "source": [
    "# Locate the most similar neighbors\n",
    "def get_neighbors(train, test_row, num_neighbors):\n",
    "\tdistances = list()\n",
    "\tfor train_row in train:\n",
    "\t\t# print(\"TRAIN: \", train_row)\n",
    "\t\t# print(\"\\n\\nTEST: \", test_row)\n",
    "\t\tdist = euclidean_distance(train_row, test_row)\n",
    "\t\tdistances.append((train_row, dist))\n",
    "\tdistances.sort(key=lambda tup: tup[1])\n",
    "\tneighbors = list()\n",
    "\tfor i in range(num_neighbors):\n",
    "\t\tneighbors.append(distances[i][0])\n",
    "\treturn neighbors"
   ]
  },
  {
   "cell_type": "code",
   "execution_count": 12,
   "metadata": {},
   "outputs": [
    {
     "name": "stdout",
     "output_type": "stream",
     "text": [
      "[2.7810836, 2.550537003, 0]\n",
      "[3.06407232, 3.005305973, 0]\n",
      "[1.465489372, 2.362125076, 0]\n"
     ]
    }
   ],
   "source": [
    "# Test distance function\n",
    "dataset = [[2.7810836,2.550537003,0],\n",
    "\t[1.465489372,2.362125076,0],\n",
    "\t[3.396561688,4.400293529,0],\n",
    "\t[1.38807019,1.850220317,0],\n",
    "\t[3.06407232,3.005305973,0],\n",
    "\t[7.627531214,2.759262235,1],\n",
    "\t[5.332441248,2.088626775,1],\n",
    "\t[6.922596716,1.77106367,1],\n",
    "\t[8.675418651,-0.242068655,1],\n",
    "\t[7.673756466,3.508563011,1]]\n",
    "neighbors = get_neighbors(dataset, dataset[0], 3)\n",
    "for neighbor in neighbors:\n",
    "\tprint(neighbor)"
   ]
  },
  {
   "cell_type": "code",
   "execution_count": 80,
   "metadata": {},
   "outputs": [],
   "source": [
    "# Make a classification prediction with neighbors\n",
    "def predict_classification(train, test_row, num_neighbors):\n",
    "\tneighbors = get_neighbors(train, test_row, num_neighbors)\n",
    "\toutput_values = [row[-1] for row in neighbors]\n",
    "\t#print(output_values)\n",
    "\tprediction = max(set(output_values), key=output_values.count)\n",
    "\treturn prediction"
   ]
  },
  {
   "cell_type": "code",
   "execution_count": 14,
   "metadata": {},
   "outputs": [
    {
     "name": "stdout",
     "output_type": "stream",
     "text": [
      "Expected 0, Got 0.\n"
     ]
    }
   ],
   "source": []
  },
  {
   "cell_type": "code",
   "execution_count": null,
   "metadata": {},
   "outputs": [],
   "source": []
  },
  {
   "cell_type": "code",
   "execution_count": null,
   "metadata": {},
   "outputs": [],
   "source": []
  },
  {
   "cell_type": "code",
   "execution_count": null,
   "metadata": {},
   "outputs": [],
   "source": []
  },
  {
   "cell_type": "code",
   "execution_count": 44,
   "metadata": {},
   "outputs": [],
   "source": [
    "''' independent and dependent features '''\n",
    "X = df.iloc[:, :-1]\n",
    "y = df.iloc[:, -1]\n",
    "P = df.iloc[:]\n"
   ]
  },
  {
   "cell_type": "code",
   "execution_count": 45,
   "metadata": {},
   "outputs": [
    {
     "data": {
      "text/html": [
       "<div>\n",
       "<style scoped>\n",
       "    .dataframe tbody tr th:only-of-type {\n",
       "        vertical-align: middle;\n",
       "    }\n",
       "\n",
       "    .dataframe tbody tr th {\n",
       "        vertical-align: top;\n",
       "    }\n",
       "\n",
       "    .dataframe thead th {\n",
       "        text-align: right;\n",
       "    }\n",
       "</style>\n",
       "<table border=\"1\" class=\"dataframe\">\n",
       "  <thead>\n",
       "    <tr style=\"text-align: right;\">\n",
       "      <th></th>\n",
       "      <th>ph</th>\n",
       "      <th>Hardness</th>\n",
       "      <th>Solids</th>\n",
       "      <th>Chloramines</th>\n",
       "      <th>Sulfate</th>\n",
       "      <th>Conductivity</th>\n",
       "      <th>Organic_carbon</th>\n",
       "      <th>Trihalomethanes</th>\n",
       "      <th>Turbidity</th>\n",
       "      <th>Potability</th>\n",
       "    </tr>\n",
       "  </thead>\n",
       "  <tbody>\n",
       "    <tr>\n",
       "      <th>0</th>\n",
       "      <td>6.209697</td>\n",
       "      <td>169.318505</td>\n",
       "      <td>22610.768710</td>\n",
       "      <td>4.875414</td>\n",
       "      <td>327.379938</td>\n",
       "      <td>549.276728</td>\n",
       "      <td>17.015118</td>\n",
       "      <td>51.505508</td>\n",
       "      <td>3.893767</td>\n",
       "      <td>0</td>\n",
       "    </tr>\n",
       "    <tr>\n",
       "      <th>1</th>\n",
       "      <td>5.608623</td>\n",
       "      <td>271.882219</td>\n",
       "      <td>43680.222520</td>\n",
       "      <td>4.157335</td>\n",
       "      <td>366.866533</td>\n",
       "      <td>450.896053</td>\n",
       "      <td>16.442753</td>\n",
       "      <td>61.249762</td>\n",
       "      <td>3.777508</td>\n",
       "      <td>1</td>\n",
       "    </tr>\n",
       "    <tr>\n",
       "      <th>2</th>\n",
       "      <td>7.021295</td>\n",
       "      <td>225.350498</td>\n",
       "      <td>23109.854230</td>\n",
       "      <td>5.907273</td>\n",
       "      <td>320.535989</td>\n",
       "      <td>459.899890</td>\n",
       "      <td>13.670099</td>\n",
       "      <td>77.339918</td>\n",
       "      <td>3.675558</td>\n",
       "      <td>0</td>\n",
       "    </tr>\n",
       "    <tr>\n",
       "      <th>3</th>\n",
       "      <td>8.551078</td>\n",
       "      <td>216.415932</td>\n",
       "      <td>28909.290280</td>\n",
       "      <td>6.936782</td>\n",
       "      <td>295.223707</td>\n",
       "      <td>510.895001</td>\n",
       "      <td>16.202371</td>\n",
       "      <td>79.859323</td>\n",
       "      <td>4.046380</td>\n",
       "      <td>0</td>\n",
       "    </tr>\n",
       "    <tr>\n",
       "      <th>4</th>\n",
       "      <td>6.128426</td>\n",
       "      <td>141.492410</td>\n",
       "      <td>9615.832710</td>\n",
       "      <td>7.627919</td>\n",
       "      <td>277.951704</td>\n",
       "      <td>415.008737</td>\n",
       "      <td>16.435843</td>\n",
       "      <td>50.693927</td>\n",
       "      <td>4.633824</td>\n",
       "      <td>0</td>\n",
       "    </tr>\n",
       "    <tr>\n",
       "      <th>...</th>\n",
       "      <td>...</td>\n",
       "      <td>...</td>\n",
       "      <td>...</td>\n",
       "      <td>...</td>\n",
       "      <td>...</td>\n",
       "      <td>...</td>\n",
       "      <td>...</td>\n",
       "      <td>...</td>\n",
       "      <td>...</td>\n",
       "      <td>...</td>\n",
       "    </tr>\n",
       "    <tr>\n",
       "      <th>2006</th>\n",
       "      <td>5.841119</td>\n",
       "      <td>194.616894</td>\n",
       "      <td>17721.959560</td>\n",
       "      <td>5.646297</td>\n",
       "      <td>410.358673</td>\n",
       "      <td>622.963575</td>\n",
       "      <td>17.629541</td>\n",
       "      <td>93.070691</td>\n",
       "      <td>4.237560</td>\n",
       "      <td>0</td>\n",
       "    </tr>\n",
       "    <tr>\n",
       "      <th>2007</th>\n",
       "      <td>10.272444</td>\n",
       "      <td>163.624623</td>\n",
       "      <td>18894.852390</td>\n",
       "      <td>10.068205</td>\n",
       "      <td>269.646656</td>\n",
       "      <td>446.450725</td>\n",
       "      <td>11.856914</td>\n",
       "      <td>82.445503</td>\n",
       "      <td>3.179885</td>\n",
       "      <td>1</td>\n",
       "    </tr>\n",
       "    <tr>\n",
       "      <th>2008</th>\n",
       "      <td>5.685216</td>\n",
       "      <td>154.570002</td>\n",
       "      <td>17628.043060</td>\n",
       "      <td>6.664444</td>\n",
       "      <td>390.094731</td>\n",
       "      <td>324.427772</td>\n",
       "      <td>17.352586</td>\n",
       "      <td>67.407300</td>\n",
       "      <td>4.066157</td>\n",
       "      <td>1</td>\n",
       "    </tr>\n",
       "    <tr>\n",
       "      <th>2009</th>\n",
       "      <td>9.085637</td>\n",
       "      <td>238.221968</td>\n",
       "      <td>9001.658753</td>\n",
       "      <td>9.820231</td>\n",
       "      <td>325.104847</td>\n",
       "      <td>381.346582</td>\n",
       "      <td>19.195740</td>\n",
       "      <td>98.490819</td>\n",
       "      <td>2.544020</td>\n",
       "      <td>0</td>\n",
       "    </tr>\n",
       "    <tr>\n",
       "      <th>2010</th>\n",
       "      <td>5.555353</td>\n",
       "      <td>154.300684</td>\n",
       "      <td>20503.430050</td>\n",
       "      <td>9.644997</td>\n",
       "      <td>313.470297</td>\n",
       "      <td>355.206969</td>\n",
       "      <td>18.468690</td>\n",
       "      <td>75.140362</td>\n",
       "      <td>4.536146</td>\n",
       "      <td>0</td>\n",
       "    </tr>\n",
       "  </tbody>\n",
       "</table>\n",
       "<p>2011 rows × 10 columns</p>\n",
       "</div>"
      ],
      "text/plain": [
       "             ph    Hardness        Solids  Chloramines     Sulfate  \\\n",
       "0      6.209697  169.318505  22610.768710     4.875414  327.379938   \n",
       "1      5.608623  271.882219  43680.222520     4.157335  366.866533   \n",
       "2      7.021295  225.350498  23109.854230     5.907273  320.535989   \n",
       "3      8.551078  216.415932  28909.290280     6.936782  295.223707   \n",
       "4      6.128426  141.492410   9615.832710     7.627919  277.951704   \n",
       "...         ...         ...           ...          ...         ...   \n",
       "2006   5.841119  194.616894  17721.959560     5.646297  410.358673   \n",
       "2007  10.272444  163.624623  18894.852390    10.068205  269.646656   \n",
       "2008   5.685216  154.570002  17628.043060     6.664444  390.094731   \n",
       "2009   9.085637  238.221968   9001.658753     9.820231  325.104847   \n",
       "2010   5.555353  154.300684  20503.430050     9.644997  313.470297   \n",
       "\n",
       "      Conductivity  Organic_carbon  Trihalomethanes  Turbidity  Potability  \n",
       "0       549.276728       17.015118        51.505508   3.893767           0  \n",
       "1       450.896053       16.442753        61.249762   3.777508           1  \n",
       "2       459.899890       13.670099        77.339918   3.675558           0  \n",
       "3       510.895001       16.202371        79.859323   4.046380           0  \n",
       "4       415.008737       16.435843        50.693927   4.633824           0  \n",
       "...            ...             ...              ...        ...         ...  \n",
       "2006    622.963575       17.629541        93.070691   4.237560           0  \n",
       "2007    446.450725       11.856914        82.445503   3.179885           1  \n",
       "2008    324.427772       17.352586        67.407300   4.066157           1  \n",
       "2009    381.346582       19.195740        98.490819   2.544020           0  \n",
       "2010    355.206969       18.468690        75.140362   4.536146           0  \n",
       "\n",
       "[2011 rows x 10 columns]"
      ]
     },
     "execution_count": 45,
     "metadata": {},
     "output_type": "execute_result"
    }
   ],
   "source": [
    "P"
   ]
  },
  {
   "cell_type": "code",
   "execution_count": 32,
   "metadata": {},
   "outputs": [],
   "source": [
    "''' train test split '''\n",
    "X_train, X_test, y_train, y_test = train_test_split(X, y, test_size=0.2, random_state=0)"
   ]
  },
  {
   "cell_type": "code",
   "execution_count": 67,
   "metadata": {},
   "outputs": [
    {
     "data": {
      "text/plain": [
       "array([[ 0.47944551,  0.8667033 ,  0.16253223, ..., -0.28994207,\n",
       "        -1.46600093, -1.89812298],\n",
       "       [ 0.70837116,  0.2665382 , -0.52679831, ..., -0.55969842,\n",
       "         1.07873612,  1.48035344],\n",
       "       [-0.761469  , -0.74332129,  1.02410825, ...,  0.57965007,\n",
       "         0.49474203, -1.29235933],\n",
       "       ...,\n",
       "       [ 1.04092698,  0.19702023,  0.4285947 , ...,  0.66939552,\n",
       "         2.35333024, -0.1797342 ],\n",
       "       [-0.9121712 ,  1.13566674, -0.6359798 , ...,  1.34727186,\n",
       "         0.64669003,  1.33539458],\n",
       "       [ 0.33360234,  1.4525545 , -0.4953636 , ..., -1.29022848,\n",
       "         0.61743737,  0.41882779]])"
      ]
     },
     "execution_count": 67,
     "metadata": {},
     "output_type": "execute_result"
    }
   ],
   "source": [
    "X_test"
   ]
  },
  {
   "cell_type": "code",
   "execution_count": 42,
   "metadata": {},
   "outputs": [
    {
     "data": {
      "text/plain": [
       "array([[-0.02267606, -0.56878024, -1.03179733, ...,  0.59301976,\n",
       "        -0.79515999,  0.65781525],\n",
       "       [-0.13800189, -0.16119606,  0.01109532, ..., -1.44394331,\n",
       "         0.11260187,  0.7331956 ],\n",
       "       [-0.101575  ,  0.67208848, -0.33689542, ..., -0.42857267,\n",
       "         0.6368513 , -2.50849884],\n",
       "       ...,\n",
       "       [-0.67229314,  0.95877553, -1.04833755, ..., -2.17117004,\n",
       "        -1.58343063, -0.48326344],\n",
       "       [ 0.03622394,  1.32284848, -0.84568572, ...,  0.17698469,\n",
       "        -0.83857701, -1.71149284],\n",
       "       [-0.61601124,  1.40471387, -1.54067141, ...,  0.73077722,\n",
       "        -1.18022489,  1.25465334]])"
      ]
     },
     "execution_count": 42,
     "metadata": {},
     "output_type": "execute_result"
    }
   ],
   "source": [
    "X_train"
   ]
  },
  {
   "cell_type": "code",
   "execution_count": 33,
   "metadata": {},
   "outputs": [
    {
     "name": "stdout",
     "output_type": "stream",
     "text": [
      "X_train shape:  (1608, 9)\n",
      "X_test shape:  (403, 9)\n"
     ]
    }
   ],
   "source": [
    "print(\"X_train shape: \", X_train.shape)\n",
    "print(\"X_test shape: \", X_test.shape)"
   ]
  },
  {
   "cell_type": "code",
   "execution_count": 34,
   "metadata": {},
   "outputs": [],
   "source": [
    "''' standard scaler '''\n",
    "sc = StandardScaler()\n",
    "\n",
    "X_train = sc.fit_transform(X_train)\n",
    "X_test = sc.transform(X_test)"
   ]
  },
  {
   "cell_type": "code",
   "execution_count": 97,
   "metadata": {},
   "outputs": [],
   "source": [
    "models_acc = []\n",
    "\n",
    "models = [LogisticRegression(), KNeighborsClassifier(metric='euclidean'), GaussianNB()]\n",
    "\n",
    "for model in models:\n",
    "    ''' fit on data '''\n",
    "    model.fit(X_train, y_train)\n",
    "    \n",
    "    pred = model.predict(X_test)\n",
    "    \n",
    "    ''' appending result to model_acc'''\n",
    "    models_acc.append(accuracy_score(y_test, pred))"
   ]
  },
  {
   "cell_type": "code",
   "execution_count": 98,
   "metadata": {},
   "outputs": [],
   "source": [
    "''' creating dataframe '''\n",
    "res = pd.DataFrame({\n",
    "    'Model Accuracy': models_acc, \n",
    "    \"Model Name\": ['LogisticRegression', 'KNeighborsClassifier', 'GaussianNB']\n",
    "})"
   ]
  },
  {
   "cell_type": "code",
   "execution_count": 99,
   "metadata": {},
   "outputs": [
    {
     "data": {
      "image/png": "[encoded data removed]",
      "text/plain": [
       "<Figure size 720x360 with 1 Axes>"
      ]
     },
     "metadata": {
      "needs_background": "light"
     },
     "output_type": "display_data"
    }
   ],
   "source": [
    "''' barplot plot models accuracy '''\n",
    "plt.figure(figsize=(10, 5))\n",
    "sns.barplot(res['Model Accuracy'], res['Model Name'])\n",
    "plt.xlabel('Model Accuracy', fontsize=15)\n",
    "plt.ylabel('Model Name', fontsize=15);"
   ]
  },
  {
   "cell_type": "code",
   "execution_count": 100,
   "metadata": {},
   "outputs": [
    {
     "data": {
      "image/png": "[encoded data removed]",
      "text/plain": [
       "<Figure size 720x360 with 1 Axes>"
      ]
     },
     "metadata": {
      "needs_background": "light"
     },
     "output_type": "display_data"
    }
   ],
   "source": [
    "''' barplot plot models accuracy '''\n",
    "plt.figure(figsize=(10, 5))\n",
    "sns.barplot(res['Model Accuracy'], res['Model Name'])\n",
    "plt.xlabel('Model Accuracy', fontsize=15)\n",
    "plt.ylabel('Model Name', fontsize=15);"
   ]
  },
  {
   "cell_type": "code",
   "execution_count": 101,
   "metadata": {},
   "outputs": [
    {
     "data": {
      "text/html": [
       "<div>\n",
       "<style scoped>\n",
       "    .dataframe tbody tr th:only-of-type {\n",
       "        vertical-align: middle;\n",
       "    }\n",
       "\n",
       "    .dataframe tbody tr th {\n",
       "        vertical-align: top;\n",
       "    }\n",
       "\n",
       "    .dataframe thead th {\n",
       "        text-align: right;\n",
       "    }\n",
       "</style>\n",
       "<table border=\"1\" class=\"dataframe\">\n",
       "  <thead>\n",
       "    <tr style=\"text-align: right;\">\n",
       "      <th></th>\n",
       "      <th>Model Accuracy</th>\n",
       "      <th>Model Name</th>\n",
       "    </tr>\n",
       "  </thead>\n",
       "  <tbody>\n",
       "    <tr>\n",
       "      <th>0</th>\n",
       "      <td>0.598015</td>\n",
       "      <td>LogisticRegression</td>\n",
       "    </tr>\n",
       "    <tr>\n",
       "      <th>1</th>\n",
       "      <td>0.615385</td>\n",
       "      <td>KNeighborsClassifier</td>\n",
       "    </tr>\n",
       "    <tr>\n",
       "      <th>2</th>\n",
       "      <td>0.625310</td>\n",
       "      <td>GaussianNB</td>\n",
       "    </tr>\n",
       "  </tbody>\n",
       "</table>\n",
       "</div>"
      ],
      "text/plain": [
       "   Model Accuracy            Model Name\n",
       "0        0.598015    LogisticRegression\n",
       "1        0.615385  KNeighborsClassifier\n",
       "2        0.625310            GaussianNB"
      ]
     },
     "execution_count": 101,
     "metadata": {},
     "output_type": "execute_result"
    }
   ],
   "source": [
    "res"
   ]
  },
  {
   "cell_type": "code",
   "execution_count": 103,
   "metadata": {},
   "outputs": [
    {
     "data": {
      "text/html": [
       "<div>\n",
       "<style scoped>\n",
       "    .dataframe tbody tr th:only-of-type {\n",
       "        vertical-align: middle;\n",
       "    }\n",
       "\n",
       "    .dataframe tbody tr th {\n",
       "        vertical-align: top;\n",
       "    }\n",
       "\n",
       "    .dataframe thead th {\n",
       "        text-align: right;\n",
       "    }\n",
       "</style>\n",
       "<table border=\"1\" class=\"dataframe\">\n",
       "  <thead>\n",
       "    <tr style=\"text-align: right;\">\n",
       "      <th></th>\n",
       "      <th>Model Accuracy</th>\n",
       "      <th>Model Name</th>\n",
       "    </tr>\n",
       "  </thead>\n",
       "  <tbody>\n",
       "    <tr>\n",
       "      <th>0</th>\n",
       "      <td>0.598015</td>\n",
       "      <td>LogisticRegression</td>\n",
       "    </tr>\n",
       "    <tr>\n",
       "      <th>1</th>\n",
       "      <td>0.615385</td>\n",
       "      <td>KNeighborsClassifier</td>\n",
       "    </tr>\n",
       "    <tr>\n",
       "      <th>2</th>\n",
       "      <td>0.625310</td>\n",
       "      <td>GaussianNB</td>\n",
       "    </tr>\n",
       "  </tbody>\n",
       "</table>\n",
       "</div>"
      ],
      "text/plain": [
       "   Model Accuracy            Model Name\n",
       "0        0.598015    LogisticRegression\n",
       "1        0.615385  KNeighborsClassifier\n",
       "2        0.625310            GaussianNB"
      ]
     },
     "execution_count": 103,
     "metadata": {},
     "output_type": "execute_result"
    }
   ],
   "source": [
    "res"
   ]
  },
  {
   "cell_type": "code",
   "execution_count": 48,
   "metadata": {},
   "outputs": [
    {
     "data": {
      "text/plain": [
       "array([[6.20969744e+00, 1.69318505e+02, 2.26107687e+04, ...,\n",
       "        5.15055083e+01, 3.89376683e+00, 0.00000000e+00],\n",
       "       [5.60862315e+00, 2.71882219e+02, 4.36802225e+04, ...,\n",
       "        6.12497619e+01, 3.77750827e+00, 1.00000000e+00],\n",
       "       [7.02129531e+00, 2.25350498e+02, 2.31098542e+04, ...,\n",
       "        7.73399182e+01, 3.67555796e+00, 0.00000000e+00],\n",
       "       ...,\n",
       "       [5.68521646e+00, 1.54570002e+02, 1.76280431e+04, ...,\n",
       "        6.74073001e+01, 4.06615700e+00, 1.00000000e+00],\n",
       "       [9.08563710e+00, 2.38221968e+02, 9.00165875e+03, ...,\n",
       "        9.84908193e+01, 2.54402028e+00, 0.00000000e+00],\n",
       "       [5.55535297e+00, 1.54300684e+02, 2.05034300e+04, ...,\n",
       "        7.51403617e+01, 4.53614591e+00, 0.00000000e+00]])"
      ]
     },
     "execution_count": 48,
     "metadata": {},
     "output_type": "execute_result"
    }
   ],
   "source": [
    "data = df.to_numpy()\n",
    "data"
   ]
  },
  {
   "cell_type": "code",
   "execution_count": 66,
   "metadata": {},
   "outputs": [
    {
     "name": "stdout",
     "output_type": "stream",
     "text": [
      "[[ 0.47944551  0.8667033   0.16253223 ... -0.28994207 -1.46600093\n",
      "  -1.89812298]\n",
      " [ 0.70837116  0.2665382  -0.52679831 ... -0.55969842  1.07873612\n",
      "   1.48035344]\n",
      " [-0.761469   -0.74332129  1.02410825 ...  0.57965007  0.49474203\n",
      "  -1.29235933]\n",
      " ...\n",
      " [ 1.04092698  0.19702023  0.4285947  ...  0.66939552  2.35333024\n",
      "  -0.1797342 ]\n",
      " [-0.9121712   1.13566674 -0.6359798  ...  1.34727186  0.64669003\n",
      "   1.33539458]\n",
      " [ 0.33360234  1.4525545  -0.4953636  ... -1.29022848  0.61743737\n",
      "   0.41882779]]\n"
     ]
    }
   ],
   "source": [
    "print(X_test)"
   ]
  },
  {
   "cell_type": "code",
   "execution_count": null,
   "metadata": {},
   "outputs": [],
   "source": [
    "# # Step 1:\n",
    "# # calculate the Euclidean distance between two vectors\n",
    "# def euclidean_distance(row1, row2):\n",
    "# \tdistance = 0.0\n",
    "# \tprint(\"\\nr1:\", row1)\n",
    "# \tprint(\"\\nr1:\", row1)\n",
    "# \tfor i in range(len(row1)-1):\n",
    "# \t\tdistance += (row1[i] - row2[i])**2\n",
    "\n",
    "# \treturn np.sqrt(distance)"
   ]
  },
  {
   "cell_type": "code",
   "execution_count": 74,
   "metadata": {},
   "outputs": [
    {
     "name": "stdout",
     "output_type": "stream",
     "text": [
      "\n",
      "r1: [6.20969744, 169.318505, 22610.7687, 4.87541388, 327.379938, 549.276728, 17.015118, 51.5055083, 3.89376683]\n",
      "\n",
      "r2: [0.47944551, 0.8667033, 0.16253223, -0.77312264, -0.80833674, -0.47067121, -0.28994207, -1.46600093, -1.89812298]\n",
      "511680987.21775585\n"
     ]
    },
    {
     "data": {
      "text/plain": [
       "22620.366646404207"
      ]
     },
     "execution_count": 74,
     "metadata": {},
     "output_type": "execute_result"
    }
   ],
   "source": [
    "\n",
    "train = [6.20969744e+00, 1.69318505e+02, 2.26107687e+04, 4.87541388e+00, 3.27379938e+02, 5.49276728e+02, 1.70151180e+01, 5.15055083e+01, 3.89376683e+00]\n",
    "\n",
    "test = [ 0.47944551, 0.8667033,   0.16253223, -0.77312264, -0.80833674, -0.47067121, -0.28994207, -1.46600093, -1.89812298]\n",
    "\n",
    "d = euclidean_distance(train, test)\n",
    "\n",
    "d\n"
   ]
  },
  {
   "cell_type": "code",
   "execution_count": 94,
   "metadata": {},
   "outputs": [
    {
     "name": "stdout",
     "output_type": "stream",
     "text": [
      "Accuracy 1 0.5905707196029777\n",
      "Accuracy 2 0.5905707196029777\n",
      "Accuracy 3 0.4094292803970223\n",
      "Accuracy 4 0.4094292803970223\n",
      "Accuracy 5 0.4094292803970223\n",
      "Accuracy 6 0.5905707196029777\n",
      "Accuracy 7 0.4094292803970223\n",
      "Accuracy 8 0.5905707196029777\n",
      "Accuracy 9 0.4094292803970223\n",
      "Accuracy 10 0.5905707196029777\n"
     ]
    }
   ],
   "source": [
    "\n",
    "# count = 2\n",
    "# for i in X_test:\n",
    "#     #print(i)\n",
    "#     prediction = predict_classification(data, i, 3)\n",
    "#     pred.append(prediction)\n",
    "#     count+=1\n",
    "    \n",
    "\n",
    "for c in range(1, 11):\n",
    "    pred = []\n",
    "    for i in X_test:\n",
    "        prediction = predict_classification(data, i, c)\n",
    "        pred.append(prediction)\n",
    "    \n",
    "    a = accuracy_score(y_test, pred)\n",
    "    print(\"Accuracy \" + str(c), a)\n",
    "    \n",
    "\n",
    "\n",
    "# train = [6.20969744e+00 1.69318505e+02 2.26107687e+04 4.87541388e+00\n",
    "#  3.27379938e+02 5.49276728e+02 1.70151180e+01 5.15055083e+01\n",
    "#  3.89376683e+00 0.00000000e+00]\n",
    "\n",
    "# test = [ 0.47944551  0.8667033   0.16253223 -0.77312264 -0.80833674 -0.47067121\n",
    "#  -0.28994207 -1.46600093 -1.89812298]\n"
   ]
  },
  {
   "cell_type": "markdown",
   "metadata": {},
   "source": []
  }
 ],
 "metadata": {
  "interpreter": {
   "hash": "b0fa6594d8f4cbf19f97940f81e996739fb7646882a419484c72d19e05852a7e"
  },
  "kernelspec": {
   "display_name": "Python 3.9.7 64-bit",
   "language": "python",
   "name": "python3"
  },
  "language_info": {
   "codemirror_mode": {
    "name": "ipython",
    "version": 3
   },
   "file_extension": ".py",
   "mimetype": "text/x-python",
   "name": "python",
   "nbconvert_exporter": "python",
   "pygments_lexer": "ipython3",
   "version": "3.8.12"
  },
  "orig_nbformat": 4
 },
 "nbformat": 4,
 "nbformat_minor": 2
}
